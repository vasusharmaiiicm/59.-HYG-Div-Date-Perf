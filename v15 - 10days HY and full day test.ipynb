{
 "cells": [
  {
   "cell_type": "code",
   "execution_count": 1,
   "id": "38e670e7-6fdc-4f86-888b-69ffbe02ca11",
   "metadata": {
    "jupyter": {
     "source_hidden": true
    },
    "scrolled": true
   },
   "outputs": [],
   "source": [
    "import backtrader as bt\n",
    "import pandas as pd\n",
    "import numpy as np\n",
    "import random\n",
    "import pytz\n",
    "import time\n",
    "import os\n",
    "from xbbg import blp\n",
    "from datetime import datetime, timedelta\n",
    "import plotly.express as px\n",
    "import plotly.graph_objects as go\n",
    "from plotly.subplots import make_subplots\n",
    "from ipywidgets import interact, Dropdown, HBox, VBox, Button, Output, Text, widgets\n",
    "import sympy as sp\n",
    "from sklearn.metrics import r2_score\n",
    "from statsmodels.tsa.stattools import adfuller\n",
    "import matplotlib.pyplot as plt\n",
    "from IPython.display import display, clear_output\n",
    "from IPython import get_ipython\n",
    "import matplotlib.dates as mdates\n",
    "from pydataquery import DataQuery\n",
    "import re\n",
    "import statsmodels.api as sm\n",
    "from scipy.optimize import minimize\n",
    "import scipy.stats as stats\n",
    "import itertools\n",
    "import warnings\n",
    "from statsmodels.tsa.seasonal import seasonal_decompose\n",
    "import yfinance as yf\n",
    "import csv\n",
    "import uuid\n",
    "from concurrent.futures import ThreadPoolExecutor\n",
    "import warnings\n",
    "from multiprocess import Pool\n",
    "import time\n",
    "warnings.filterwarnings('ignore')"
   ]
  },
  {
   "cell_type": "code",
   "execution_count": 2,
   "id": "81bf6c93-29e2-43ea-8e75-292c8df845b1",
   "metadata": {},
   "outputs": [],
   "source": [
    "cdx_mult = 1\n",
    "\n",
    "cdx = \"CDX HY CDSI GEN 5Y SPRD CORP\"\n",
    "bond_etf = \"HYG US EQUITY\"\n",
    "cdx_name = \"CDX HY 5Y\"\n",
    "rates_etf = \"USGG5YR INDEX\"\n",
    "rates_etf_name = \"US 5Y\"\n",
    "\n",
    "# cdx = \"CDX IG CDSI GEN 5Y SPRD CORP\"\n",
    "# bond_etf = \"VCIT US EQUITY\"\n",
    "# cdx_name = \"CDX IG 5Y\"\n",
    "# rates_etf = \"USGG5YR INDEX\"\n",
    "# rates_etf_name = \"US 5Y\"\n",
    "\n",
    "# cdx = \"CDX EM CDSI GEN 5Y SPRD CORP\"\n",
    "# bond_etf = \"EMB US EQUITY\"\n",
    "# cdx_name = \"CDX EM 5Y\"\n",
    "# rates_etf = \"USGG7YR INDEX\"\n",
    "# rates_etf_name = \"US 7Y\"\n",
    "\n",
    "# cdx = \"CDX IG CDSI GEN 10Y SPRD CORP\"\n",
    "# bond_etf = \"LQD US EQUITY\"\n",
    "# cdx_name = \"CDX IG 10Y\"\n",
    "# rates_etf = \"USGG10YR INDEX\"\n",
    "# rates_etf_name = \"US 10Y\""
   ]
  },
  {
   "cell_type": "code",
   "execution_count": 3,
   "id": "49531dad-ca32-4ecf-b601-a6aad571ecb3",
   "metadata": {},
   "outputs": [],
   "source": [
    "bond_etf_name = bond_etf.split(\" \")[0]\n",
    "all_basis_data = pd.read_excel(\"All Basis Data.xlsx\",index_col=0, parse_dates=True)\n",
    "px = all_basis_data[[cdx_name,bond_etf_name,rates_etf_name]].ffill().copy()\n",
    "\n",
    "px_hist = blp.bdh(tickers=[cdx, bond_etf, rates_etf], flds=\"PX_LAST\",start_date=\"2021-1-1\")\n",
    "daily = px_hist.dropna().copy()\n",
    "daily.columns = [cdx_name, bond_etf_name,rates_etf_name]\n",
    "daily.index.name = \"Date\"\n",
    "daily = daily.reset_index()\n",
    "\n",
    "dvd_hist = blp.bds(bond_etf, 'DVD_HIST_ALL', DVD_START_DT='20210101', DVD_END_DT='20251201' )\n",
    "dvd = dvd_hist[[\"ex_date\"]].reset_index().copy()\n",
    "dvd.columns = [\"Div\",\"Date\"]\n",
    "\n",
    "comb = pd.merge(left=daily, right=dvd, on=\"Date\", how=\"outer\").set_index(\"Date\").sort_index().copy()\n",
    "\n",
    "dvd_dict = {}\n",
    "dv = list(comb[f\"Div\"].dropna().index)\n",
    "\n",
    "period_list = ['-10', '-9', '-8', '-7', '-6', '-5', '-4', '-3', '-2', '-1', '+0', '+1', '+2', '+3', '+4', '+5', '+6', '+7', '+8', '+9', '+10']\n",
    "shifted_indices = {}\n",
    "\n",
    "for p in period_list:\n",
    "    col_name = f\"Div{p}\"\n",
    "    comb[col_name] = comb[\"Div\"].shift(eval(p))\n",
    "    key = f\"p{p.replace('-','minus').replace('+','plus')}\"\n",
    "    shifted_indices[key] = list(comb[col_name].dropna().index)\n",
    "\n",
    "dvd_dict = {}\n",
    "for i, dv_item in enumerate(dv):\n",
    "    dvd_dict[str(dv_item)] = [\n",
    "        str(shifted_indices[f\"p{p.replace('-','minus').replace('+','plus')}\"][i])\n",
    "        for p in period_list\n",
    "        if i < len(shifted_indices[f\"p{p.replace('-','minus').replace('+','plus')}\"])\n",
    "    ]\n",
    "\n",
    "all_dates_list = []\n",
    "for key, val in dvd_dict.items():\n",
    "    all_dates_list += val\n",
    "\n",
    "px = px[px.index.normalize().isin(all_dates_list)]\n",
    "# px.to_excel(f\"{cdx_name}_10days.xlsx\")"
   ]
  },
  {
   "cell_type": "code",
   "execution_count": 4,
   "id": "af290180-a093-4bd6-b49a-d7d80a9eaabb",
   "metadata": {},
   "outputs": [
    {
     "data": {
      "text/html": [
       "<div>\n",
       "<style scoped>\n",
       "    .dataframe tbody tr th:only-of-type {\n",
       "        vertical-align: middle;\n",
       "    }\n",
       "\n",
       "    .dataframe tbody tr th {\n",
       "        vertical-align: top;\n",
       "    }\n",
       "\n",
       "    .dataframe thead th {\n",
       "        text-align: right;\n",
       "    }\n",
       "</style>\n",
       "<table border=\"1\" class=\"dataframe\">\n",
       "  <thead>\n",
       "    <tr style=\"text-align: right;\">\n",
       "      <th></th>\n",
       "      <th>Mean</th>\n",
       "      <th>Median</th>\n",
       "      <th>% Positive Basis Move</th>\n",
       "      <th>Avg. Positive Basis Move</th>\n",
       "      <th>Median Positive Basis Move</th>\n",
       "      <th>% Negative Basis Move</th>\n",
       "      <th>Avg. Negative Basis Move</th>\n",
       "      <th>Median Negative Basis Move</th>\n",
       "    </tr>\n",
       "    <tr>\n",
       "      <th>CDX HY 5Y Basis</th>\n",
       "      <th></th>\n",
       "      <th></th>\n",
       "      <th></th>\n",
       "      <th></th>\n",
       "      <th></th>\n",
       "      <th></th>\n",
       "      <th></th>\n",
       "      <th></th>\n",
       "    </tr>\n",
       "  </thead>\n",
       "  <tbody>\n",
       "    <tr>\n",
       "      <th>T-10 15:55:00</th>\n",
       "      <td>0.04</td>\n",
       "      <td>1.06</td>\n",
       "      <td>57.41</td>\n",
       "      <td>3.77</td>\n",
       "      <td>2.73</td>\n",
       "      <td>42.59</td>\n",
       "      <td>-4.98</td>\n",
       "      <td>-3.91</td>\n",
       "    </tr>\n",
       "    <tr>\n",
       "      <th>T-9 15:55:00</th>\n",
       "      <td>0.44</td>\n",
       "      <td>0.63</td>\n",
       "      <td>51.85</td>\n",
       "      <td>4.44</td>\n",
       "      <td>2.91</td>\n",
       "      <td>48.15</td>\n",
       "      <td>-3.87</td>\n",
       "      <td>-2.92</td>\n",
       "    </tr>\n",
       "    <tr>\n",
       "      <th>T-8 15:55:00</th>\n",
       "      <td>0.76</td>\n",
       "      <td>1.03</td>\n",
       "      <td>57.41</td>\n",
       "      <td>3.96</td>\n",
       "      <td>2.92</td>\n",
       "      <td>42.59</td>\n",
       "      <td>-3.56</td>\n",
       "      <td>-1.98</td>\n",
       "    </tr>\n",
       "    <tr>\n",
       "      <th>T-7 15:55:00</th>\n",
       "      <td>1.61</td>\n",
       "      <td>1.57</td>\n",
       "      <td>59.26</td>\n",
       "      <td>4.78</td>\n",
       "      <td>2.95</td>\n",
       "      <td>40.74</td>\n",
       "      <td>-2.98</td>\n",
       "      <td>-2.18</td>\n",
       "    </tr>\n",
       "    <tr>\n",
       "      <th>T-6 15:55:00</th>\n",
       "      <td>-0.30</td>\n",
       "      <td>0.60</td>\n",
       "      <td>53.70</td>\n",
       "      <td>3.01</td>\n",
       "      <td>2.14</td>\n",
       "      <td>46.30</td>\n",
       "      <td>-4.15</td>\n",
       "      <td>-3.31</td>\n",
       "    </tr>\n",
       "    <tr>\n",
       "      <th>T-5 15:55:00</th>\n",
       "      <td>1.33</td>\n",
       "      <td>1.44</td>\n",
       "      <td>60.38</td>\n",
       "      <td>4.76</td>\n",
       "      <td>3.90</td>\n",
       "      <td>39.62</td>\n",
       "      <td>-3.88</td>\n",
       "      <td>-2.80</td>\n",
       "    </tr>\n",
       "    <tr>\n",
       "      <th>T-4 15:55:00</th>\n",
       "      <td>0.04</td>\n",
       "      <td>-0.18</td>\n",
       "      <td>47.17</td>\n",
       "      <td>4.34</td>\n",
       "      <td>2.83</td>\n",
       "      <td>52.83</td>\n",
       "      <td>-3.80</td>\n",
       "      <td>-1.99</td>\n",
       "    </tr>\n",
       "    <tr>\n",
       "      <th>T-3 15:55:00</th>\n",
       "      <td>0.80</td>\n",
       "      <td>0.57</td>\n",
       "      <td>55.56</td>\n",
       "      <td>5.55</td>\n",
       "      <td>2.65</td>\n",
       "      <td>44.44</td>\n",
       "      <td>-5.14</td>\n",
       "      <td>-3.50</td>\n",
       "    </tr>\n",
       "    <tr>\n",
       "      <th>T-2 15:55:00</th>\n",
       "      <td>1.51</td>\n",
       "      <td>1.74</td>\n",
       "      <td>63.64</td>\n",
       "      <td>4.26</td>\n",
       "      <td>3.17</td>\n",
       "      <td>36.36</td>\n",
       "      <td>-3.30</td>\n",
       "      <td>-2.86</td>\n",
       "    </tr>\n",
       "    <tr>\n",
       "      <th>T-1 15:55:00</th>\n",
       "      <td>-2.29</td>\n",
       "      <td>-0.81</td>\n",
       "      <td>40.74</td>\n",
       "      <td>3.43</td>\n",
       "      <td>2.36</td>\n",
       "      <td>59.26</td>\n",
       "      <td>-6.21</td>\n",
       "      <td>-4.69</td>\n",
       "    </tr>\n",
       "    <tr>\n",
       "      <th>T+0 15:55:00</th>\n",
       "      <td>0.98</td>\n",
       "      <td>0.69</td>\n",
       "      <td>57.41</td>\n",
       "      <td>5.05</td>\n",
       "      <td>4.25</td>\n",
       "      <td>42.59</td>\n",
       "      <td>-4.51</td>\n",
       "      <td>-4.21</td>\n",
       "    </tr>\n",
       "    <tr>\n",
       "      <th>T+1 15:55:00</th>\n",
       "      <td>2.06</td>\n",
       "      <td>1.96</td>\n",
       "      <td>70.91</td>\n",
       "      <td>5.04</td>\n",
       "      <td>3.96</td>\n",
       "      <td>29.09</td>\n",
       "      <td>-5.20</td>\n",
       "      <td>-4.40</td>\n",
       "    </tr>\n",
       "    <tr>\n",
       "      <th>T+2 15:55:00</th>\n",
       "      <td>0.33</td>\n",
       "      <td>0.32</td>\n",
       "      <td>52.83</td>\n",
       "      <td>4.17</td>\n",
       "      <td>3.06</td>\n",
       "      <td>47.17</td>\n",
       "      <td>-3.98</td>\n",
       "      <td>-3.06</td>\n",
       "    </tr>\n",
       "    <tr>\n",
       "      <th>T+3 15:55:00</th>\n",
       "      <td>0.17</td>\n",
       "      <td>0.07</td>\n",
       "      <td>52.73</td>\n",
       "      <td>3.70</td>\n",
       "      <td>1.84</td>\n",
       "      <td>47.27</td>\n",
       "      <td>-3.77</td>\n",
       "      <td>-2.71</td>\n",
       "    </tr>\n",
       "    <tr>\n",
       "      <th>T+4 15:55:00</th>\n",
       "      <td>0.83</td>\n",
       "      <td>0.47</td>\n",
       "      <td>55.56</td>\n",
       "      <td>4.14</td>\n",
       "      <td>2.56</td>\n",
       "      <td>44.44</td>\n",
       "      <td>-3.31</td>\n",
       "      <td>-2.27</td>\n",
       "    </tr>\n",
       "    <tr>\n",
       "      <th>T+5 15:55:00</th>\n",
       "      <td>-1.38</td>\n",
       "      <td>-0.46</td>\n",
       "      <td>47.27</td>\n",
       "      <td>3.31</td>\n",
       "      <td>3.05</td>\n",
       "      <td>52.73</td>\n",
       "      <td>-5.58</td>\n",
       "      <td>-4.46</td>\n",
       "    </tr>\n",
       "    <tr>\n",
       "      <th>T+6 15:55:00</th>\n",
       "      <td>0.28</td>\n",
       "      <td>0.35</td>\n",
       "      <td>54.55</td>\n",
       "      <td>4.42</td>\n",
       "      <td>2.59</td>\n",
       "      <td>45.45</td>\n",
       "      <td>-4.69</td>\n",
       "      <td>-4.02</td>\n",
       "    </tr>\n",
       "    <tr>\n",
       "      <th>T+7 15:55:00</th>\n",
       "      <td>-0.17</td>\n",
       "      <td>0.85</td>\n",
       "      <td>63.64</td>\n",
       "      <td>3.38</td>\n",
       "      <td>1.98</td>\n",
       "      <td>36.36</td>\n",
       "      <td>-6.36</td>\n",
       "      <td>-5.57</td>\n",
       "    </tr>\n",
       "    <tr>\n",
       "      <th>T+8 15:55:00</th>\n",
       "      <td>-0.11</td>\n",
       "      <td>0.36</td>\n",
       "      <td>50.91</td>\n",
       "      <td>4.73</td>\n",
       "      <td>3.29</td>\n",
       "      <td>49.09</td>\n",
       "      <td>-5.13</td>\n",
       "      <td>-3.38</td>\n",
       "    </tr>\n",
       "    <tr>\n",
       "      <th>T+9 15:55:00</th>\n",
       "      <td>0.51</td>\n",
       "      <td>-0.02</td>\n",
       "      <td>49.09</td>\n",
       "      <td>5.03</td>\n",
       "      <td>2.89</td>\n",
       "      <td>50.91</td>\n",
       "      <td>-3.85</td>\n",
       "      <td>-2.63</td>\n",
       "    </tr>\n",
       "    <tr>\n",
       "      <th>T+10 15:55:00</th>\n",
       "      <td>0.48</td>\n",
       "      <td>1.02</td>\n",
       "      <td>61.82</td>\n",
       "      <td>3.87</td>\n",
       "      <td>2.57</td>\n",
       "      <td>38.18</td>\n",
       "      <td>-5.01</td>\n",
       "      <td>-3.33</td>\n",
       "    </tr>\n",
       "  </tbody>\n",
       "</table>\n",
       "</div>"
      ],
      "text/plain": [
       "                 Mean  Median  % Positive Basis Move  \\\n",
       "CDX HY 5Y Basis                                        \n",
       "T-10 15:55:00    0.04    1.06                  57.41   \n",
       "T-9 15:55:00     0.44    0.63                  51.85   \n",
       "T-8 15:55:00     0.76    1.03                  57.41   \n",
       "T-7 15:55:00     1.61    1.57                  59.26   \n",
       "T-6 15:55:00    -0.30    0.60                  53.70   \n",
       "T-5 15:55:00     1.33    1.44                  60.38   \n",
       "T-4 15:55:00     0.04   -0.18                  47.17   \n",
       "T-3 15:55:00     0.80    0.57                  55.56   \n",
       "T-2 15:55:00     1.51    1.74                  63.64   \n",
       "T-1 15:55:00    -2.29   -0.81                  40.74   \n",
       "T+0 15:55:00     0.98    0.69                  57.41   \n",
       "T+1 15:55:00     2.06    1.96                  70.91   \n",
       "T+2 15:55:00     0.33    0.32                  52.83   \n",
       "T+3 15:55:00     0.17    0.07                  52.73   \n",
       "T+4 15:55:00     0.83    0.47                  55.56   \n",
       "T+5 15:55:00    -1.38   -0.46                  47.27   \n",
       "T+6 15:55:00     0.28    0.35                  54.55   \n",
       "T+7 15:55:00    -0.17    0.85                  63.64   \n",
       "T+8 15:55:00    -0.11    0.36                  50.91   \n",
       "T+9 15:55:00     0.51   -0.02                  49.09   \n",
       "T+10 15:55:00    0.48    1.02                  61.82   \n",
       "\n",
       "                 Avg. Positive Basis Move  Median Positive Basis Move  \\\n",
       "CDX HY 5Y Basis                                                         \n",
       "T-10 15:55:00                        3.77                        2.73   \n",
       "T-9 15:55:00                         4.44                        2.91   \n",
       "T-8 15:55:00                         3.96                        2.92   \n",
       "T-7 15:55:00                         4.78                        2.95   \n",
       "T-6 15:55:00                         3.01                        2.14   \n",
       "T-5 15:55:00                         4.76                        3.90   \n",
       "T-4 15:55:00                         4.34                        2.83   \n",
       "T-3 15:55:00                         5.55                        2.65   \n",
       "T-2 15:55:00                         4.26                        3.17   \n",
       "T-1 15:55:00                         3.43                        2.36   \n",
       "T+0 15:55:00                         5.05                        4.25   \n",
       "T+1 15:55:00                         5.04                        3.96   \n",
       "T+2 15:55:00                         4.17                        3.06   \n",
       "T+3 15:55:00                         3.70                        1.84   \n",
       "T+4 15:55:00                         4.14                        2.56   \n",
       "T+5 15:55:00                         3.31                        3.05   \n",
       "T+6 15:55:00                         4.42                        2.59   \n",
       "T+7 15:55:00                         3.38                        1.98   \n",
       "T+8 15:55:00                         4.73                        3.29   \n",
       "T+9 15:55:00                         5.03                        2.89   \n",
       "T+10 15:55:00                        3.87                        2.57   \n",
       "\n",
       "                 % Negative Basis Move  Avg. Negative Basis Move  \\\n",
       "CDX HY 5Y Basis                                                    \n",
       "T-10 15:55:00                    42.59                     -4.98   \n",
       "T-9 15:55:00                     48.15                     -3.87   \n",
       "T-8 15:55:00                     42.59                     -3.56   \n",
       "T-7 15:55:00                     40.74                     -2.98   \n",
       "T-6 15:55:00                     46.30                     -4.15   \n",
       "T-5 15:55:00                     39.62                     -3.88   \n",
       "T-4 15:55:00                     52.83                     -3.80   \n",
       "T-3 15:55:00                     44.44                     -5.14   \n",
       "T-2 15:55:00                     36.36                     -3.30   \n",
       "T-1 15:55:00                     59.26                     -6.21   \n",
       "T+0 15:55:00                     42.59                     -4.51   \n",
       "T+1 15:55:00                     29.09                     -5.20   \n",
       "T+2 15:55:00                     47.17                     -3.98   \n",
       "T+3 15:55:00                     47.27                     -3.77   \n",
       "T+4 15:55:00                     44.44                     -3.31   \n",
       "T+5 15:55:00                     52.73                     -5.58   \n",
       "T+6 15:55:00                     45.45                     -4.69   \n",
       "T+7 15:55:00                     36.36                     -6.36   \n",
       "T+8 15:55:00                     49.09                     -5.13   \n",
       "T+9 15:55:00                     50.91                     -3.85   \n",
       "T+10 15:55:00                    38.18                     -5.01   \n",
       "\n",
       "                 Median Negative Basis Move  \n",
       "CDX HY 5Y Basis                              \n",
       "T-10 15:55:00                         -3.91  \n",
       "T-9 15:55:00                          -2.92  \n",
       "T-8 15:55:00                          -1.98  \n",
       "T-7 15:55:00                          -2.18  \n",
       "T-6 15:55:00                          -3.31  \n",
       "T-5 15:55:00                          -2.80  \n",
       "T-4 15:55:00                          -1.99  \n",
       "T-3 15:55:00                          -3.50  \n",
       "T-2 15:55:00                          -2.86  \n",
       "T-1 15:55:00                          -4.69  \n",
       "T+0 15:55:00                          -4.21  \n",
       "T+1 15:55:00                          -4.40  \n",
       "T+2 15:55:00                          -3.06  \n",
       "T+3 15:55:00                          -2.71  \n",
       "T+4 15:55:00                          -2.27  \n",
       "T+5 15:55:00                          -4.46  \n",
       "T+6 15:55:00                          -4.02  \n",
       "T+7 15:55:00                          -5.57  \n",
       "T+8 15:55:00                          -3.38  \n",
       "T+9 15:55:00                          -2.63  \n",
       "T+10 15:55:00                         -3.33  "
      ]
     },
     "execution_count": 4,
     "metadata": {},
     "output_type": "execute_result"
    }
   ],
   "source": [
    "\n",
    "# px = pd.read_excel(f\"{cdx_name}_Raw.xlsx\",index_col=0,parse_dates=True)\n",
    "px = pd.read_excel(f\"{cdx_name}_10days.xlsx\",index_col=0,parse_dates=True)\n",
    "px[\"Basis\"] = cdx_mult * px[cdx_name] - 100*(px[f'{bond_etf_name} Yld'] - px[rates_etf_name])\n",
    "px = px[[\"Basis\"]]\n",
    "\n",
    "all_t = None\n",
    "for key, val in dvd_dict.items():\n",
    "    try:\n",
    "        t_minus10 = px[px.index.date == pd.to_datetime(val[0]).date()]\n",
    "        t_minus10.index = [\"T-10 \" + str(item).split(\" \")[1] for item in t_minus10.index]\n",
    "        \n",
    "        t_minus9 = px[px.index.date == pd.to_datetime(val[1]).date()]\n",
    "        t_minus9.index = [\"T-9 \" + str(item).split(\" \")[1] for item in t_minus9.index]\n",
    "        \n",
    "        t_minus8 = px[px.index.date == pd.to_datetime(val[2]).date()]\n",
    "        t_minus8.index = [\"T-8 \" + str(item).split(\" \")[1] for item in t_minus8.index]\n",
    "        \n",
    "        t_minus7 = px[px.index.date == pd.to_datetime(val[3]).date()]\n",
    "        t_minus7.index = [\"T-7 \" + str(item).split(\" \")[1] for item in t_minus7.index]\n",
    "        \n",
    "        t_minus6 = px[px.index.date == pd.to_datetime(val[4]).date()]\n",
    "        t_minus6.index = [\"T-6 \" + str(item).split(\" \")[1] for item in t_minus6.index]\n",
    "        \n",
    "        t_minus5 = px[px.index.date == pd.to_datetime(val[5]).date()]\n",
    "        t_minus5.index = [\"T-5 \" + str(item).split(\" \")[1] for item in t_minus5.index]\n",
    "        \n",
    "        t_minus4 = px[px.index.date == pd.to_datetime(val[6]).date()]\n",
    "        t_minus4.index = [\"T-4 \" + str(item).split(\" \")[1] for item in t_minus4.index]\n",
    "        \n",
    "        t_minus3 = px[px.index.date == pd.to_datetime(val[7]).date()]\n",
    "        t_minus3.index = [\"T-3 \" + str(item).split(\" \")[1] for item in t_minus3.index]\n",
    "        \n",
    "        t_minus2 = px[px.index.date == pd.to_datetime(val[8]).date()]\n",
    "        t_minus2.index = [\"T-2 \" + str(item).split(\" \")[1] for item in t_minus2.index]\n",
    "        \n",
    "        t_minus1 = px[px.index.date == pd.to_datetime(val[9]).date()]\n",
    "        t_minus1.index = [\"T-1 \" + str(item).split(\" \")[1] for item in t_minus1.index]\n",
    "        \n",
    "        t0 = px[px.index.date == pd.to_datetime(val[10]).date()]\n",
    "        t0.index = [\"T+0 \" + str(item).split(\" \")[1] for item in t0.index]\n",
    "        \n",
    "        t_plus1 = px[px.index.date == pd.to_datetime(val[11]).date()]\n",
    "        t_plus1.index = [\"T+1 \" + str(item).split(\" \")[1] for item in t_plus1.index]\n",
    "        \n",
    "        t_plus2 = px[px.index.date == pd.to_datetime(val[12]).date()]\n",
    "        t_plus2.index = [\"T+2 \" + str(item).split(\" \")[1] for item in t_plus2.index]\n",
    "        \n",
    "        t_plus3 = px[px.index.date == pd.to_datetime(val[13]).date()]\n",
    "        t_plus3.index = [\"T+3 \" + str(item).split(\" \")[1] for item in t_plus3.index]\n",
    "        \n",
    "        t_plus4 = px[px.index.date == pd.to_datetime(val[14]).date()]\n",
    "        t_plus4.index = [\"T+4 \" + str(item).split(\" \")[1] for item in t_plus4.index]\n",
    "        \n",
    "        t_plus5 = px[px.index.date == pd.to_datetime(val[15]).date()]\n",
    "        t_plus5.index = [\"T+5 \" + str(item).split(\" \")[1] for item in t_plus5.index]\n",
    "        \n",
    "        t_plus6 = px[px.index.date == pd.to_datetime(val[16]).date()]\n",
    "        t_plus6.index = [\"T+6 \" + str(item).split(\" \")[1] for item in t_plus6.index]\n",
    "        \n",
    "        t_plus7 = px[px.index.date == pd.to_datetime(val[17]).date()]\n",
    "        t_plus7.index = [\"T+7 \" + str(item).split(\" \")[1] for item in t_plus7.index]\n",
    "        \n",
    "        t_plus8 = px[px.index.date == pd.to_datetime(val[18]).date()]\n",
    "        t_plus8.index = [\"T+8 \" + str(item).split(\" \")[1] for item in t_plus8.index]\n",
    "        \n",
    "        t_plus9 = px[px.index.date == pd.to_datetime(val[19]).date()]\n",
    "        t_plus9.index = [\"T+9 \" + str(item).split(\" \")[1] for item in t_plus9.index]\n",
    "        \n",
    "        t_plus10 = px[px.index.date == pd.to_datetime(val[20]).date()]\n",
    "        t_plus10.index = [\"T+10 \" + str(item).split(\" \")[1] for item in t_plus10.index]\n",
    "        \n",
    "        t = pd.concat([\n",
    "            t_minus10, t_minus9, t_minus8, t_minus7, t_minus6, t_minus5, t_minus4, t_minus3, t_minus2, t_minus1,\n",
    "            t0,\n",
    "            t_plus1, t_plus2, t_plus3, t_plus4, t_plus5, t_plus6, t_plus7, t_plus8, t_plus9, t_plus10])\n",
    "\n",
    "        t.columns = [key]\n",
    "        all_t = pd.concat([all_t, t],axis=1)\n",
    "    except:\n",
    "        h=1\n",
    "all_t = all_t.dropna(how=\"all\",axis=1).copy()\n",
    "\n",
    "ty = all_t.copy()\n",
    "ty[\"Key\"] = [item.split(\" \")[0] for item in ty.index]\n",
    "ty[\"Key2\"] = [pd.to_datetime(item.split(\" \")[1]).time() for item in ty.index]\n",
    "order = [\"T\"+item for item in period_list]#[\"T-3\", \"T-2\", \"T-1\", \"T+0\", \"T+1\", \"T+2\", \"T+3\"]\n",
    "order_map = {k: i for i, k in enumerate(order)}\n",
    "ty = ty.sort_values(by=[\"Key\", \"Key2\"], key=lambda col: col.map(order_map) if col.name == \"Key\" else col).drop([\"Key2\"],axis=1)\n",
    "\n",
    "all_y = None\n",
    "for item in order:\n",
    "    x = ty[ty[\"Key\"]==item].drop([\"Key\"],axis=1).iloc[:,-12:]\n",
    "    x = x - x.iloc[0]\n",
    "    \n",
    "    y = ty[ty[\"Key\"]==item].drop([\"Key\"],axis=1)#.iloc[:,-12:]\n",
    "    y = (y - y.iloc[0]).iloc[[-1]].T\n",
    "    all_y = pd.concat([all_y, y],axis=1)\n",
    "    # break\n",
    "    # x.plot(figsize=(12,4))\n",
    "    # plt.axhline(0, color=\"black\",linewidth=3)\n",
    "    # plt.title(f\"{cdx_name} Basis move on {item}\")\n",
    "    # plt.legend(loc=\"lower left\")\n",
    "    # plt.show()\n",
    "all_data = pd.DataFrame(all_y.mean())\n",
    "all_data.index.name = cdx_name + \" Basis\"\n",
    "all_data.columns = [\"Mean\"]\n",
    "all_data[\"Median\"] = all_y.median()\n",
    "all_data[\"All Data Points\"] = [np.nan] * len(all_data)\n",
    "all_data[\"Positive Basis Move Data Points\"] = [np.nan] * len(all_data)\n",
    "all_data[\"Avg. Positive Basis Move\"] = [np.nan] * len(all_data)\n",
    "all_data[\"Median Positive Basis Move\"] = [np.nan] * len(all_data)\n",
    "all_data[\"Negative Basis Move Data Points\"] = [np.nan] * len(all_data)\n",
    "all_data[\"Median Negative Basis Move\"] = [np.nan] * len(all_data)\n",
    "\n",
    "for col in all_y.columns:\n",
    "# col = all_y.columns[0]\n",
    "    z = list(all_y[col].dropna())\n",
    "    pos = [item for item in z if item>0]\n",
    "    neg = [item for item in z if item<0]\n",
    "    \n",
    "    all_data.loc[col, \"All Data Points\"] = len(z)\n",
    "    all_data.loc[col, \"Positive Basis Move Data Points\"] = len(pos)\n",
    "    all_data.loc[col, \"Avg. Positive Basis Move\"] = np.mean(pos)\n",
    "    all_data.loc[col, \"Median Positive Basis Move\"] = np.median(pos)\n",
    "    \n",
    "    all_data.loc[col, \"Negative Basis Move Data Points\"] = len(neg)\n",
    "    all_data.loc[col, \"Avg. Negative Basis Move\"] = np.mean(neg)\n",
    "    all_data.loc[col, \"Median Negative Basis Move\"] = np.median(neg)\n",
    "    \n",
    "all_data[\"% Positive Basis Move\"] = all_data[\"Positive Basis Move Data Points\"]*100/all_data[\"All Data Points\"]\n",
    "all_data[\"% Negative Basis Move\"] = all_data[\"Negative Basis Move Data Points\"]*100/all_data[\"All Data Points\"]\n",
    "all_data = all_data[[\"Mean\",\"Median\",\"% Positive Basis Move\",\"Avg. Positive Basis Move\",\"Median Positive Basis Move\",\\\n",
    "    \"% Negative Basis Move\",\"Avg. Negative Basis Move\",\"Median Negative Basis Move\"]]\n",
    "all_data = round(all_data,2)\n",
    "all_data"
   ]
  },
  {
   "cell_type": "code",
   "execution_count": 17,
   "id": "08e34b90-f874-45e8-86c9-928a5a2e4b57",
   "metadata": {},
   "outputs": [
    {
     "data": {
      "image/png": "[encoded data removed]",
      "text/plain": [
       "<Figure size 1200x600 with 1 Axes>"
      ]
     },
     "metadata": {},
     "output_type": "display_data"
    }
   ],
   "source": [
    "# df_plot = ty[ty[\"Key\"].isin([\"T-1\",\"T+0\",\"T+1\"])].copy()\n",
    "df_plot = ty.copy()\n",
    "na = df_plot.isna().sum()\n",
    "df_plot = df_plot.drop(list(na[na!=0].index)+[\"Key\"],axis=1)\n",
    "# df_plot1 = df_plot.iloc[:78,:]\n",
    "df_plot1a = df_plot.loc[:\"T-1 15:55:00\",:]\n",
    "df_plot2a = df_plot.loc[\"T+0 09:30:00\":,:]\n",
    "df_plot1 = df_plot1a - df_plot1a.iloc[-1]\n",
    "df_plot2 = df_plot2a - df_plot2a.iloc[0]\n",
    "df_plot3 = pd.concat([df_plot1, df_plot2])\n",
    "\n",
    "s = df_plot3.mean(axis=1)\n",
    "ax = s.plot(figsize=(12,6),color=\"blue\")\n",
    "\n",
    "# xpos = s.index.get_loc(\"T+0 09:30:00\")\n",
    "# ax.axvline(xpos, color=\"red\",label=\"T+0 09:30:00\")\n",
    "\n",
    "# xpos = s.index.get_loc(\"T+0 10:20:00\")\n",
    "# ax.axvline(xpos, color=\"black\",label=\"Min. Value at T+0 10:20:00\")\n",
    "\n",
    "# xpos = s.index.get_loc(\"T+1 14:40:00\")\n",
    "# ax.axvline(xpos, color=\"green\",label=\"Max. Value at T+1 14:40:00\")\n",
    "\n",
    "# time_labels = [\n",
    "#     \"T-3 09:30:00\", \"T-2 09:30:00\", \"T-1 09:30:00\",\n",
    "#     \"T+0 09:30:00\", \"T+1 09:30:00\", \"T+2 09:30:00\", \"T+3 09:30:00\"\n",
    "# ]\n",
    "\n",
    "# for label in time_labels:\n",
    "#     xpos = s.index.get_loc(label)\n",
    "#     ax.axvline(x=xpos, label=label)\n",
    "\n",
    "# time_labels = [\n",
    "#     \"T-3 09:30:00\", \"T-2 09:30:00\", \"T-1 09:30:00\",\n",
    "#     \"T+0 09:30:00\", \"T+1 09:30:00\", \"T+2 09:30:00\", \"T+3 09:30:00\"]\n",
    "\n",
    "# colors = [\"blue\", \"green\", \"orange\", \"red\", \"purple\", \"brown\", \"black\"]\n",
    "# for label, color in zip(time_labels, colors):\n",
    "#     xpos = s.index.get_loc(label)\n",
    "#     ax.axvline(x=xpos, color=color, label=label)\n",
    "\n",
    "time_labels = [item + \" 09:30:00\" for item in order]\n",
    "\n",
    "colors = [\n",
    "    \"blue\", \"green\", \"orange\", \"red\", \"purple\", \"brown\", \"black\",\n",
    "    \"red\", \"magenta\", \"gray\", \"red\",\n",
    "    \"navy\", \"lime\", \"gold\", \"teal\", \"maroon\",\n",
    "    \"olive\", \"coral\", \"darkblue\", \"darkgreen\", \"darkorange\"\n",
    "]\n",
    "\n",
    "for label, color in zip(time_labels, colors):\n",
    "    xpos = s.index.get_loc(label)\n",
    "    ax.axvline(x=xpos, color=color, label=label, linewidth = 3 if label == \"T+0 09:30:00\" else 0.5)\n",
    "    \n",
    "plt.title(f\"{cdx_mult} x {cdx_name} Basis Typical Move from T-10 to T+10 (Mean)\")\n",
    "# plt.legend()\n",
    "plt.show()"
   ]
  },
  {
   "cell_type": "code",
   "execution_count": 35,
   "id": "46e6d48a-b0b9-47e6-9f44-f2204ddd2afd",
   "metadata": {},
   "outputs": [
    {
     "data": {
      "text/html": [
       "<div>\n",
       "<style scoped>\n",
       "    .dataframe tbody tr th:only-of-type {\n",
       "        vertical-align: middle;\n",
       "    }\n",
       "\n",
       "    .dataframe tbody tr th {\n",
       "        vertical-align: top;\n",
       "    }\n",
       "\n",
       "    .dataframe thead th {\n",
       "        text-align: right;\n",
       "    }\n",
       "</style>\n",
       "<table border=\"1\" class=\"dataframe\">\n",
       "  <thead>\n",
       "    <tr style=\"text-align: right;\">\n",
       "      <th></th>\n",
       "      <th>Day_Move</th>\n",
       "      <th>Day</th>\n",
       "    </tr>\n",
       "  </thead>\n",
       "  <tbody>\n",
       "    <tr>\n",
       "      <th>2021-04-01</th>\n",
       "      <td>-7.027098</td>\n",
       "      <td>T-10</td>\n",
       "    </tr>\n",
       "    <tr>\n",
       "      <th>2021-05-03</th>\n",
       "      <td>-1.122325</td>\n",
       "      <td>T-10</td>\n",
       "    </tr>\n",
       "    <tr>\n",
       "      <th>2021-06-01</th>\n",
       "      <td>-2.627410</td>\n",
       "      <td>T-10</td>\n",
       "    </tr>\n",
       "    <tr>\n",
       "      <th>2021-07-01</th>\n",
       "      <td>-0.266723</td>\n",
       "      <td>T-10</td>\n",
       "    </tr>\n",
       "    <tr>\n",
       "      <th>2021-08-02</th>\n",
       "      <td>-9.067447</td>\n",
       "      <td>T-10</td>\n",
       "    </tr>\n",
       "    <tr>\n",
       "      <th>...</th>\n",
       "      <td>...</td>\n",
       "      <td>...</td>\n",
       "    </tr>\n",
       "    <tr>\n",
       "      <th>2025-04-01</th>\n",
       "      <td>-1.879783</td>\n",
       "      <td>T+10</td>\n",
       "    </tr>\n",
       "    <tr>\n",
       "      <th>2025-05-01</th>\n",
       "      <td>-0.356534</td>\n",
       "      <td>T+10</td>\n",
       "    </tr>\n",
       "    <tr>\n",
       "      <th>2025-06-02</th>\n",
       "      <td>0.912801</td>\n",
       "      <td>T+10</td>\n",
       "    </tr>\n",
       "    <tr>\n",
       "      <th>2025-08-01</th>\n",
       "      <td>4.076465</td>\n",
       "      <td>T+10</td>\n",
       "    </tr>\n",
       "    <tr>\n",
       "      <th>2025-09-02</th>\n",
       "      <td>-3.325761</td>\n",
       "      <td>T+10</td>\n",
       "    </tr>\n",
       "  </tbody>\n",
       "</table>\n",
       "<p>966 rows × 2 columns</p>\n",
       "</div>"
      ],
      "text/plain": [
       "            Day_Move   Day\n",
       "2021-04-01 -7.027098  T-10\n",
       "2021-05-03 -1.122325  T-10\n",
       "2021-06-01 -2.627410  T-10\n",
       "2021-07-01 -0.266723  T-10\n",
       "2021-08-02 -9.067447  T-10\n",
       "...              ...   ...\n",
       "2025-04-01 -1.879783  T+10\n",
       "2025-05-01 -0.356534  T+10\n",
       "2025-06-02  0.912801  T+10\n",
       "2025-08-01  4.076465  T+10\n",
       "2025-09-02 -3.325761  T+10\n",
       "\n",
       "[966 rows x 2 columns]"
      ]
     },
     "execution_count": 35,
     "metadata": {},
     "output_type": "execute_result"
    }
   ],
   "source": [
    "all_day = None\n",
    "for item1 in order:\n",
    "    single_day = df_plot3[[item.split(\" \")[0]==item1 for item in df_plot3.index]].copy()\n",
    "    single_day = single_day - single_day.iloc[0]\n",
    "    single_day = single_day.iloc[[-1]]\n",
    "    single_day = single_day.T\n",
    "    single_day.columns = [\"Day_Move\"]\n",
    "    single_day[\"Day\"] = [item1]*len(single_day)\n",
    "    all_day = pd.concat([all_day,single_day])\n",
    "all_day"
   ]
  },
  {
   "cell_type": "code",
   "execution_count": 56,
   "id": "be8527de-4926-452a-baab-4d513bc7921b",
   "metadata": {},
   "outputs": [
    {
     "data": {
      "text/plain": [
       "'day count is T-10 and ANOVA p-value is 0.8645'"
      ]
     },
     "metadata": {},
     "output_type": "display_data"
    },
    {
     "data": {
      "text/plain": [
       "'day count is T-9 and ANOVA p-value is 0.8553'"
      ]
     },
     "metadata": {},
     "output_type": "display_data"
    },
    {
     "data": {
      "text/plain": [
       "'day count is T-8 and ANOVA p-value is 0.5991'"
      ]
     },
     "metadata": {},
     "output_type": "display_data"
    },
    {
     "data": {
      "text/plain": [
       "'day count is T-7 and ANOVA p-value is 0.2859'"
      ]
     },
     "metadata": {},
     "output_type": "display_data"
    },
    {
     "data": {
      "text/plain": [
       "'day count is T-6 and ANOVA p-value is 0.2932'"
      ]
     },
     "metadata": {},
     "output_type": "display_data"
    },
    {
     "data": {
      "text/plain": [
       "'day count is T-5 and ANOVA p-value is 0.2180'"
      ]
     },
     "metadata": {},
     "output_type": "display_data"
    },
    {
     "data": {
      "text/plain": [
       "'day count is T-4 and ANOVA p-value is 0.6920'"
      ]
     },
     "metadata": {},
     "output_type": "display_data"
    },
    {
     "data": {
      "text/plain": [
       "'day count is T-3 and ANOVA p-value is 0.3468'"
      ]
     },
     "metadata": {},
     "output_type": "display_data"
    },
    {
     "data": {
      "text/plain": [
       "'day count is T-2 and ANOVA p-value is 0.4671'"
      ]
     },
     "metadata": {},
     "output_type": "display_data"
    },
    {
     "data": {
      "text/plain": [
       "'day count is T-1 and ANOVA p-value is 0.0041'"
      ]
     },
     "metadata": {},
     "output_type": "display_data"
    },
    {
     "data": {
      "text/plain": [
       "'day count is T+0 and ANOVA p-value is 0.2995'"
      ]
     },
     "metadata": {},
     "output_type": "display_data"
    },
    {
     "data": {
      "text/plain": [
       "'day count is T+1 and ANOVA p-value is 0.0765'"
      ]
     },
     "metadata": {},
     "output_type": "display_data"
    },
    {
     "data": {
      "text/plain": [
       "'day count is T+2 and ANOVA p-value is 0.9109'"
      ]
     },
     "metadata": {},
     "output_type": "display_data"
    },
    {
     "data": {
      "text/plain": [
       "'day count is T+3 and ANOVA p-value is 0.9271'"
      ]
     },
     "metadata": {},
     "output_type": "display_data"
    },
    {
     "data": {
      "text/plain": [
       "'day count is T+4 and ANOVA p-value is 0.5669'"
      ]
     },
     "metadata": {},
     "output_type": "display_data"
    },
    {
     "data": {
      "text/plain": [
       "'day count is T+5 and ANOVA p-value is 0.0254'"
      ]
     },
     "metadata": {},
     "output_type": "display_data"
    },
    {
     "data": {
      "text/plain": [
       "'day count is T+6 and ANOVA p-value is 0.7724'"
      ]
     },
     "metadata": {},
     "output_type": "display_data"
    },
    {
     "data": {
      "text/plain": [
       "'day count is T+7 and ANOVA p-value is 0.3740'"
      ]
     },
     "metadata": {},
     "output_type": "display_data"
    },
    {
     "data": {
      "text/plain": [
       "'day count is T+8 and ANOVA p-value is 0.3103'"
      ]
     },
     "metadata": {},
     "output_type": "display_data"
    },
    {
     "data": {
      "text/plain": [
       "'day count is T+9 and ANOVA p-value is 0.4471'"
      ]
     },
     "metadata": {},
     "output_type": "display_data"
    },
    {
     "data": {
      "text/plain": [
       "'day count is T+10 and ANOVA p-value is 0.6139'"
      ]
     },
     "metadata": {},
     "output_type": "display_data"
    }
   ],
   "source": [
    "for item in order:\n",
    "    dy = all_day.copy()\n",
    "    dy[\"Day\"] = dy[\"Day\"].apply(lambda x: \"DVD\" if x in [item] else \"Non-DVD\")\n",
    "    import pandas as pd\n",
    "    import statsmodels.api as sm\n",
    "    from statsmodels.formula.api import ols\n",
    "    from statsmodels.stats.anova import anova_lm\n",
    "    \n",
    "    model = ols('Day_Move ~ Day', data=dy).fit()\n",
    "    \n",
    "    anova_results = anova_lm(model, typ=2)\n",
    "    display(f\"day count is {item} and ANOVA p-value is {anova_results.iloc[0,-1]:.4f}\")"
   ]
  },
  {
   "cell_type": "code",
   "execution_count": 52,
   "id": "c81ebe45-7e84-4ce5-8268-29f7b6fed07f",
   "metadata": {},
   "outputs": [
    {
     "data": {
      "text/plain": [
       "-2.2746417206345053"
      ]
     },
     "metadata": {},
     "output_type": "display_data"
    },
    {
     "data": {
      "text/plain": [
       "0.4973091591483555"
      ]
     },
     "metadata": {},
     "output_type": "display_data"
    }
   ],
   "source": [
    "display(dy[dy[\"Day\"]==\"DVD\"][\"Day_Move\"].mean())\n",
    "display(dy[dy[\"Day\"]==\"Non-DVD\"][\"Day_Move\"].mean())"
   ]
  },
  {
   "cell_type": "code",
   "execution_count": 48,
   "id": "5deaaa03-1357-463f-9df6-7c962b001392",
   "metadata": {},
   "outputs": [
    {
     "name": "stdout",
     "output_type": "stream",
     "text": [
      "                            OLS Regression Results                            \n",
      "==============================================================================\n",
      "Dep. Variable:               Day_Move   R-squared:                       0.009\n",
      "Model:                            OLS   Adj. R-squared:                  0.007\n",
      "Method:                 Least Squares   F-statistic:                     8.289\n",
      "Date:                Thu, 02 Oct 2025   Prob (F-statistic):            0.00408\n",
      "Time:                        17:33:49   Log-Likelihood:                -3158.7\n",
      "No. Observations:                 966   AIC:                             6321.\n",
      "Df Residuals:                     964   BIC:                             6331.\n",
      "Df Model:                           1                                         \n",
      "Covariance Type:            nonrobust                                         \n",
      "==================================================================================\n",
      "                     coef    std err          t      P>|t|      [0.025      0.975]\n",
      "----------------------------------------------------------------------------------\n",
      "Intercept         -2.2746      0.940     -2.421      0.016      -4.118      -0.431\n",
      "Day[T.Non-DVD]     2.7720      0.963      2.879      0.004       0.883       4.661\n",
      "==============================================================================\n",
      "Omnibus:                      102.475   Durbin-Watson:                   1.992\n",
      "Prob(Omnibus):                  0.000   Jarque-Bera (JB):              732.420\n",
      "Skew:                           0.123   Prob(JB):                    9.06e-160\n",
      "Kurtosis:                       7.259   Cond. No.                         9.06\n",
      "==============================================================================\n",
      "\n",
      "Notes:\n",
      "[1] Standard Errors assume that the covariance matrix of the errors is correctly specified.\n"
     ]
    }
   ],
   "source": [
    "print(model.summary())"
   ]
  },
  {
   "cell_type": "code",
   "execution_count": 35,
   "id": "9c950e9e-41c4-4860-8a7d-5c10e352f181",
   "metadata": {},
   "outputs": [
    {
     "data": {
      "text/html": [
       "<div>\n",
       "<style scoped>\n",
       "    .dataframe tbody tr th:only-of-type {\n",
       "        vertical-align: middle;\n",
       "    }\n",
       "\n",
       "    .dataframe tbody tr th {\n",
       "        vertical-align: top;\n",
       "    }\n",
       "\n",
       "    .dataframe thead th {\n",
       "        text-align: right;\n",
       "    }\n",
       "</style>\n",
       "<table border=\"1\" class=\"dataframe\">\n",
       "  <thead>\n",
       "    <tr style=\"text-align: right;\">\n",
       "      <th></th>\n",
       "      <th>T-3 15:55:00</th>\n",
       "      <th>T-2 09:30:00</th>\n",
       "      <th>Diff</th>\n",
       "    </tr>\n",
       "  </thead>\n",
       "  <tbody>\n",
       "    <tr>\n",
       "      <th>2024-04-01</th>\n",
       "      <td>-84.203842</td>\n",
       "      <td>-65.617580</td>\n",
       "      <td>18.586262</td>\n",
       "    </tr>\n",
       "    <tr>\n",
       "      <th>2024-05-01</th>\n",
       "      <td>-51.009879</td>\n",
       "      <td>-49.529276</td>\n",
       "      <td>1.480603</td>\n",
       "    </tr>\n",
       "    <tr>\n",
       "      <th>2024-06-03</th>\n",
       "      <td>-67.206533</td>\n",
       "      <td>-68.569578</td>\n",
       "      <td>-1.363045</td>\n",
       "    </tr>\n",
       "    <tr>\n",
       "      <th>2024-08-01</th>\n",
       "      <td>-54.422229</td>\n",
       "      <td>-53.740238</td>\n",
       "      <td>0.681991</td>\n",
       "    </tr>\n",
       "    <tr>\n",
       "      <th>2024-09-03</th>\n",
       "      <td>-58.750508</td>\n",
       "      <td>-58.879736</td>\n",
       "      <td>-0.129228</td>\n",
       "    </tr>\n",
       "    <tr>\n",
       "      <th>2024-10-01</th>\n",
       "      <td>-50.281950</td>\n",
       "      <td>-26.151008</td>\n",
       "      <td>24.130943</td>\n",
       "    </tr>\n",
       "  </tbody>\n",
       "</table>\n",
       "</div>"
      ],
      "text/plain": [
       "            T-3 15:55:00  T-2 09:30:00       Diff\n",
       "2024-04-01    -84.203842    -65.617580  18.586262\n",
       "2024-05-01    -51.009879    -49.529276   1.480603\n",
       "2024-06-03    -67.206533    -68.569578  -1.363045\n",
       "2024-08-01    -54.422229    -53.740238   0.681991\n",
       "2024-09-03    -58.750508    -58.879736  -0.129228\n",
       "2024-10-01    -50.281950    -26.151008  24.130943"
      ]
     },
     "execution_count": 35,
     "metadata": {},
     "output_type": "execute_result"
    }
   ],
   "source": [
    "# df_plot1.mean(axis=1)[78*2-10:78*2+20]\n",
    "y=df_plot1a[78-1:78+1].T.copy()#.mean(axis=1).plot(figsize=(12,6))\n",
    "y[\"Diff\"] = y[\"T-2 09:30:00\"] - y[\"T-3 15:55:00\"]\n",
    "y.iloc[34:40]"
   ]
  },
  {
   "cell_type": "code",
   "execution_count": 38,
   "id": "536a202a-214e-43f6-8215-33cff4ce4405",
   "metadata": {},
   "outputs": [
    {
     "data": {
      "text/html": [
       "<div>\n",
       "<style scoped>\n",
       "    .dataframe tbody tr th:only-of-type {\n",
       "        vertical-align: middle;\n",
       "    }\n",
       "\n",
       "    .dataframe tbody tr th {\n",
       "        vertical-align: top;\n",
       "    }\n",
       "\n",
       "    .dataframe thead th {\n",
       "        text-align: right;\n",
       "    }\n",
       "</style>\n",
       "<table border=\"1\" class=\"dataframe\">\n",
       "  <thead>\n",
       "    <tr style=\"text-align: right;\">\n",
       "      <th></th>\n",
       "      <th>T-3 15:55:00</th>\n",
       "      <th>T-2 09:30:00</th>\n",
       "      <th>Diff</th>\n",
       "    </tr>\n",
       "  </thead>\n",
       "  <tbody>\n",
       "    <tr>\n",
       "      <th>2021-05-03</th>\n",
       "      <td>-56.186544</td>\n",
       "      <td>-50.754701</td>\n",
       "      <td>5.431843</td>\n",
       "    </tr>\n",
       "    <tr>\n",
       "      <th>2021-06-01</th>\n",
       "      <td>-65.325544</td>\n",
       "      <td>-59.735992</td>\n",
       "      <td>5.589552</td>\n",
       "    </tr>\n",
       "    <tr>\n",
       "      <th>2021-11-01</th>\n",
       "      <td>-28.982621</td>\n",
       "      <td>-23.344325</td>\n",
       "      <td>5.638295</td>\n",
       "    </tr>\n",
       "    <tr>\n",
       "      <th>2021-12-16</th>\n",
       "      <td>-28.209414</td>\n",
       "      <td>-24.184912</td>\n",
       "      <td>4.024502</td>\n",
       "    </tr>\n",
       "    <tr>\n",
       "      <th>2022-05-02</th>\n",
       "      <td>-25.792925</td>\n",
       "      <td>-18.841764</td>\n",
       "      <td>6.951161</td>\n",
       "    </tr>\n",
       "    <tr>\n",
       "      <th>2022-06-01</th>\n",
       "      <td>-6.010383</td>\n",
       "      <td>3.337105</td>\n",
       "      <td>9.347488</td>\n",
       "    </tr>\n",
       "    <tr>\n",
       "      <th>2022-07-01</th>\n",
       "      <td>-109.480226</td>\n",
       "      <td>-116.608583</td>\n",
       "      <td>-7.128357</td>\n",
       "    </tr>\n",
       "    <tr>\n",
       "      <th>2022-10-03</th>\n",
       "      <td>-74.971640</td>\n",
       "      <td>-79.439360</td>\n",
       "      <td>-4.467720</td>\n",
       "    </tr>\n",
       "    <tr>\n",
       "      <th>2022-11-01</th>\n",
       "      <td>-57.345573</td>\n",
       "      <td>-48.932890</td>\n",
       "      <td>8.412683</td>\n",
       "    </tr>\n",
       "    <tr>\n",
       "      <th>2022-12-15</th>\n",
       "      <td>-78.941659</td>\n",
       "      <td>-83.258662</td>\n",
       "      <td>-4.317004</td>\n",
       "    </tr>\n",
       "    <tr>\n",
       "      <th>2023-03-01</th>\n",
       "      <td>-93.046492</td>\n",
       "      <td>-88.628528</td>\n",
       "      <td>4.417965</td>\n",
       "    </tr>\n",
       "    <tr>\n",
       "      <th>2023-04-03</th>\n",
       "      <td>-119.030643</td>\n",
       "      <td>-113.748464</td>\n",
       "      <td>5.282179</td>\n",
       "    </tr>\n",
       "    <tr>\n",
       "      <th>2023-05-01</th>\n",
       "      <td>-117.227700</td>\n",
       "      <td>-109.007054</td>\n",
       "      <td>8.220647</td>\n",
       "    </tr>\n",
       "    <tr>\n",
       "      <th>2023-09-01</th>\n",
       "      <td>-73.609214</td>\n",
       "      <td>-78.780594</td>\n",
       "      <td>-5.171380</td>\n",
       "    </tr>\n",
       "    <tr>\n",
       "      <th>2024-04-01</th>\n",
       "      <td>-84.203842</td>\n",
       "      <td>-65.617580</td>\n",
       "      <td>18.586262</td>\n",
       "    </tr>\n",
       "    <tr>\n",
       "      <th>2024-10-01</th>\n",
       "      <td>-50.281950</td>\n",
       "      <td>-26.151008</td>\n",
       "      <td>24.130943</td>\n",
       "    </tr>\n",
       "  </tbody>\n",
       "</table>\n",
       "</div>"
      ],
      "text/plain": [
       "            T-3 15:55:00  T-2 09:30:00       Diff\n",
       "2021-05-03    -56.186544    -50.754701   5.431843\n",
       "2021-06-01    -65.325544    -59.735992   5.589552\n",
       "2021-11-01    -28.982621    -23.344325   5.638295\n",
       "2021-12-16    -28.209414    -24.184912   4.024502\n",
       "2022-05-02    -25.792925    -18.841764   6.951161\n",
       "2022-06-01     -6.010383      3.337105   9.347488\n",
       "2022-07-01   -109.480226   -116.608583  -7.128357\n",
       "2022-10-03    -74.971640    -79.439360  -4.467720\n",
       "2022-11-01    -57.345573    -48.932890   8.412683\n",
       "2022-12-15    -78.941659    -83.258662  -4.317004\n",
       "2023-03-01    -93.046492    -88.628528   4.417965\n",
       "2023-04-03   -119.030643   -113.748464   5.282179\n",
       "2023-05-01   -117.227700   -109.007054   8.220647\n",
       "2023-09-01    -73.609214    -78.780594  -5.171380\n",
       "2024-04-01    -84.203842    -65.617580  18.586262\n",
       "2024-10-01    -50.281950    -26.151008  24.130943"
      ]
     },
     "execution_count": 38,
     "metadata": {},
     "output_type": "execute_result"
    }
   ],
   "source": [
    "y[abs(y[\"Diff\"])>4]"
   ]
  },
  {
   "cell_type": "code",
   "execution_count": 6,
   "id": "473bb871-225d-40df-9fd7-41f1172c5a31",
   "metadata": {},
   "outputs": [
    {
     "data": {
      "text/plain": [
       "T-3 09:30:00    0.697657\n",
       "dtype: float64"
      ]
     },
     "execution_count": 6,
     "metadata": {},
     "output_type": "execute_result"
    }
   ],
   "source": [
    "s1 = s[:78]\n",
    "s1[s1==np.max(s1)]"
   ]
  },
  {
   "cell_type": "code",
   "execution_count": 7,
   "id": "07934ff2-8f56-47cf-9108-6158e8b5b430",
   "metadata": {},
   "outputs": [
    {
     "data": {
      "text/plain": [
       "T-2 11:35:00   -0.740116\n",
       "dtype: float64"
      ]
     },
     "execution_count": 7,
     "metadata": {},
     "output_type": "execute_result"
    }
   ],
   "source": [
    "s2 = s[78:78*2]\n",
    "s2[s2==np.min(s2)]"
   ]
  },
  {
   "cell_type": "code",
   "execution_count": 8,
   "id": "1515f908-0cd6-47d1-9214-bc3dc1d9060d",
   "metadata": {},
   "outputs": [
    {
     "data": {
      "text/plain": [
       "2.431925"
      ]
     },
     "execution_count": 8,
     "metadata": {},
     "output_type": "execute_result"
    }
   ],
   "source": [
    "1.793356+0.638569"
   ]
  },
  {
   "cell_type": "code",
   "execution_count": 9,
   "id": "3378da7f-57ad-489f-bc10-7fbd64d21920",
   "metadata": {},
   "outputs": [
    {
     "data": {
      "text/plain": [
       "T-2 15:55:00    2.405577\n",
       "dtype: float64"
      ]
     },
     "execution_count": 9,
     "metadata": {},
     "output_type": "execute_result"
    }
   ],
   "source": [
    "s2[s2==np.max(s2)]"
   ]
  },
  {
   "cell_type": "code",
   "execution_count": 10,
   "id": "7ae4f49b-f7a8-41c3-8026-52f4019537fd",
   "metadata": {},
   "outputs": [
    {
     "data": {
      "text/plain": [
       "1.2907980000000001"
      ]
     },
     "execution_count": 10,
     "metadata": {},
     "output_type": "execute_result"
    }
   ],
   "source": [
    "0.638569+0.652229"
   ]
  },
  {
   "cell_type": "code",
   "execution_count": null,
   "id": "48cc104e-6911-4410-a5b8-5d2a8a900bbe",
   "metadata": {},
   "outputs": [],
   "source": []
  }
 ],
 "metadata": {
  "kernelspec": {
   "display_name": "Python 3 (ipykernel)",
   "language": "python",
   "name": "python3"
  },
  "language_info": {
   "codemirror_mode": {
    "name": "ipython",
    "version": 3
   },
   "file_extension": ".py",
   "mimetype": "text/x-python",
   "name": "python",
   "nbconvert_exporter": "python",
   "pygments_lexer": "ipython3",
   "version": "3.12.5"
  }
 },
 "nbformat": 4,
 "nbformat_minor": 5
}
